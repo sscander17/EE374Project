{
  "nbformat": 4,
  "nbformat_minor": 0,
  "metadata": {
    "colab": {
      "name": "EE374Project.ipynb",
      "provenance": [],
      "collapsed_sections": []
    },
    "kernelspec": {
      "name": "python3",
      "display_name": "Python 3"
    },
    "language_info": {
      "name": "python"
    }
  },
  "cells": [
    {
      "cell_type": "markdown",
      "source": [
        "EE374 Project"
      ],
      "metadata": {
        "id": "00Hq_hPDHe4S"
      }
    },
    {
      "cell_type": "markdown",
      "source": [
        "*Importing libraries*"
      ],
      "metadata": {
        "id": "Uvbt83cBHhMi"
      }
    },
    {
      "cell_type": "code",
      "source": [
        "import numpy as np\n",
        "import matplotlib.pyplot as plt"
      ],
      "metadata": {
        "id": "2BvhIrEQH8vO"
      },
      "execution_count": 1,
      "outputs": []
    },
    {
      "cell_type": "markdown",
      "source": [
        "Defining properties"
      ],
      "metadata": {
        "id": "lgtgb4gSIUdZ"
      }
    },
    {
      "cell_type": "code",
      "source": [
        "#initialize time vector\n",
        "sampling_frequency = 200\n",
        "signal_duration = 2\n",
        "time = np.arange(signal_duration*sampling_frequency*10)/(10*sampling_frequency)  \n",
        " #To make the function seem smoother, the time vector has is multiplied with 10.\n",
        " #This is not a problem for sampling if because the modulated signal will be sampled 10 times less frequently."
      ],
      "metadata": {
        "colab": {
          "base_uri": "https://localhost:8080/"
        },
        "id": "QrKMeXiXIS4P",
        "outputId": "45f4eacf-d987-4909-928b-07bdd5352165"
      },
      "execution_count": 2,
      "outputs": [
        {
          "output_type": "stream",
          "name": "stdout",
          "text": [
            "[0.0000e+00 5.0000e-04 1.0000e-03 ... 1.9985e+00 1.9990e+00 1.9995e+00]\n"
          ]
        }
      ]
    },
    {
      "cell_type": "markdown",
      "source": [
        "Defining message source"
      ],
      "metadata": {
        "id": "Cx8oa1y8J7UW"
      }
    },
    {
      "cell_type": "code",
      "source": [
        "message = np.sin(50*np.pi*time) - np.cos(200*np.pi*time)\n",
        "\n",
        "#it's important to see the shape of the signal\n",
        "plt.plot(time,message)\n",
        "plt.axis([0 , 0.1 , -2 , 2])"
      ],
      "metadata": {
        "colab": {
          "base_uri": "https://localhost:8080/",
          "height": 286
        },
        "id": "IRinSGraJ-V6",
        "outputId": "c29ca73f-0102-47d4-a3c2-bcb386dd39e7"
      },
      "execution_count": 3,
      "outputs": [
        {
          "output_type": "execute_result",
          "data": {
            "text/plain": [
              "(0.0, 0.1, -2.0, 2.0)"
            ]
          },
          "metadata": {},
          "execution_count": 3
        },
        {
          "output_type": "display_data",
          "data": {
            "text/plain": [
              "<Figure size 432x288 with 1 Axes>"
            ],
            "image/png": "[encoded data removed]"
          },
          "metadata": {
            "needs_background": "light"
          }
        }
      ]
    },
    {
      "cell_type": "markdown",
      "source": [
        "Defining quantization levels"
      ],
      "metadata": {
        "id": "tR1k06xdRPLy"
      }
    },
    {
      "cell_type": "code",
      "source": [
        "message_max = np.max(message)\n",
        "message_min = np.min(message)\n",
        "step = (message_max - message_min)/127  #we divide by 127 because there will be 127 spaces between 128 level lines\n",
        "\n",
        "quantas = np.arange(message_min , message_max +step ,step ) #this makes a list for the quantization values\n",
        "\n"
      ],
      "metadata": {
        "id": "R4wfpsxNTzgC"
      },
      "execution_count": 4,
      "outputs": []
    },
    {
      "cell_type": "markdown",
      "source": [
        "*Printing the binary values of Pulse Code Modulated signal*"
      ],
      "metadata": {
        "id": "5ZmZqIF-j489"
      }
    },
    {
      "cell_type": "code",
      "source": [
        "Ts = 1/sampling_frequency #this is not used\n",
        "\n",
        "for i in range(1,11):\n",
        "  decimaldata = (message[10*i] - message_min)//step   #As it mentioned earlier the modulated signal is sampled 10 times less frequently.\n",
        "  # according to this modulation, the minimum value of the message is the 00000000\n",
        "  print(bin(int(decimaldata))[2:].zfill(7))     #the decimal value is converted to binary and printed as 7-bits"
      ],
      "metadata": {
        "colab": {
          "base_uri": "https://localhost:8080/"
        },
        "id": "BFETovYTWbnP",
        "outputId": "be4e137b-c8d4-4d95-c696-cd9ec9516b0e"
      },
      "execution_count": 27,
      "outputs": [
        {
          "output_type": "stream",
          "name": "stdout",
          "text": [
            "0110010\n",
            "1010001\n",
            "1101111\n",
            "1111110\n",
            "1111001\n",
            "1100100\n",
            "1001101\n",
            "1000100\n",
            "1001101\n",
            "1100100\n"
          ]
        }
      ]
    },
    {
      "cell_type": "markdown",
      "source": [
        "*Defining Delta Modulation Properties*"
      ],
      "metadata": {
        "id": "aLa4KAdINS-c"
      }
    },
    {
      "cell_type": "code",
      "source": [
        "#Start of the 2nd Question\n",
        "delta_sampling_frequency = 4*sampling_frequency   #this time the sampling frequency is 4 times the Nyquist freq.\n",
        "delta_step = 0.2    #delta step is defined accourding to the email\n",
        "\n",
        "time = np.arange(signal_duration*delta_sampling_frequency*10)/(10*delta_sampling_frequency)\n",
        "message = np.sin(50*np.pi*time) - np.cos(200*np.pi*time)\n",
        "\n",
        "delta_modulated_signal_str = \"\"   #this list will store the ones and zeros of the delta modulation\n",
        "delta_modulated_signal_int = 0    #this integer will store the instantaneous value of the delta modulated signal\n",
        "\n",
        "delta_graph_list= []    #this list will be used to graph the modulated signal\n",
        "\n"
      ],
      "metadata": {
        "id": "n6E3UuDoNWB-"
      },
      "execution_count": 29,
      "outputs": []
    },
    {
      "cell_type": "markdown",
      "source": [
        "*Printing the Delta Modulated Signal*"
      ],
      "metadata": {
        "id": "zYAasNdwmGcI"
      }
    },
    {
      "cell_type": "code",
      "source": [
        "delta_modulated_signal_str = \"\"\n",
        "\n",
        "for i in range(0,21):\n",
        "  if(message[10*i] >= delta_modulated_signal_int):    #here, if the message signal is larger than the delta modulation; \n",
        "    delta_modulated_signal_str += \"1\"                 #the '1' bit will be added to the signal\n",
        "    delta_modulated_signal_int += delta_step          #and the delta modulated signal will be increased by delta step\n",
        "    for j in range(100):                #this 'for loop' is to save the delta modulated signal at the current value\n",
        "      delta_graph_list.append(delta_modulated_signal_int)\n",
        "      \n",
        "  else:\n",
        "    delta_modulated_signal_str += \"0\"                #here, is the same but the minus one          \n",
        "    delta_modulated_signal_int -=delta_step\n",
        "    for j in range(100):\n",
        "      delta_graph_list.append(delta_modulated_signal_int)\n",
        "\n",
        "print(delta_modulated_signal_str)"
      ],
      "metadata": {
        "colab": {
          "base_uri": "https://localhost:8080/"
        },
        "id": "h6NYoXpxmTFc",
        "outputId": "5704d344-1ea9-4125-e948-0533817b17d8"
      },
      "execution_count": 30,
      "outputs": [
        {
          "output_type": "stream",
          "name": "stdout",
          "text": [
            "001111100111110000001\n"
          ]
        }
      ]
    },
    {
      "cell_type": "markdown",
      "source": [
        "*Let's check if the shapes of the message signal and the modulated signal are similar :)*"
      ],
      "metadata": {
        "id": "zHjTa68_m8pN"
      }
    },
    {
      "cell_type": "code",
      "source": [
        "plt.subplot(2, 1, 1)\n",
        "plt.plot(time,message)\n",
        "plt.axis([0 , 0.025 , -2 , 2])\n",
        "\n",
        "plt.subplot(2, 1, 2)\n",
        "plt.plot(time[:2100],delta_graph_list)\n",
        "plt.axis([0 , 0.25 , -2 , 2])"
      ],
      "metadata": {
        "colab": {
          "base_uri": "https://localhost:8080/",
          "height": 286
        },
        "id": "aHsqe6V8nJzQ",
        "outputId": "5c9693d5-18a7-435c-b5f5-da6315cb9cfd"
      },
      "execution_count": 33,
      "outputs": [
        {
          "output_type": "execute_result",
          "data": {
            "text/plain": [
              "(0.0, 0.25, -2.0, 2.0)"
            ]
          },
          "metadata": {},
          "execution_count": 33
        },
        {
          "output_type": "display_data",
          "data": {
            "text/plain": [
              "<Figure size 432x288 with 2 Axes>"
            ],
            "image/png": "[encoded data removed]"
          },
          "metadata": {
            "needs_background": "light"
          }
        }
      ]
    },
    {
      "cell_type": "markdown",
      "source": [
        "**YES THEY ARE!!**"
      ],
      "metadata": {
        "id": "g_4nRVJApemK"
      }
    }
  ]
}